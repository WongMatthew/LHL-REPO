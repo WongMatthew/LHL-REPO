{
 "cells": [
  {
   "cell_type": "markdown",
   "metadata": {
    "slideshow": {
     "slide_type": "slide"
    }
   },
   "source": [
    "## Lighthouse Labs\n",
    "### W03D1 Data Visualization I\n",
    "Instructor: Socorro Dominguez  \n",
    "July 05, 2021"
   ]
  },
  {
   "cell_type": "markdown",
   "metadata": {
    "slideshow": {
     "slide_type": "slide"
    }
   },
   "source": [
    "## Agenda\n",
    "1. Why effective visualization?\n",
    "*  Different types of visualization\n",
    "*  Principles of effective visualization\n",
    "*  Demo of popular libraries"
   ]
  },
  {
   "cell_type": "markdown",
   "metadata": {
    "slideshow": {
     "slide_type": "slide"
    }
   },
   "source": [
    "## Why Data Viz?\n",
    "\n",
    "- Humans have evolved with excellent vision\n",
    "    - Size and proportion\n",
    "    - Space and spatial relationships\n",
    "    - Colour\n",
    "    - Approximate quantity\n",
    "- Humans have not evolved to read numbers or tables\n",
    "    - In scientific publications and presentations, most people only look at figures\n"
   ]
  },
  {
   "cell_type": "markdown",
   "metadata": {
    "slideshow": {
     "slide_type": "slide"
    }
   },
   "source": [
    "## Motivation: Ugly, bad, wrong\n",
    "\n",
    "### What is wrong with these charts?\n",
    "\n",
    "<img src='imgs/ugly-bad-wrong.png' width=700>"
   ]
  },
  {
   "cell_type": "markdown",
   "metadata": {
    "slideshow": {
     "slide_type": "slide"
    }
   },
   "source": [
    "## Motivation: Ugly, bad, wrong\n",
    "\n",
    "- **ugly**: A figure that has aesthetic problems but otherwise is clear and informative.\n",
    "- **bad**: A figure that has problems related to perception; it may be unclear, confusing, overly complicated, or deceiving.\n",
    "- **wrong**: A figure that has problems related to mathematics; it is objectively incorrect."
   ]
  },
  {
   "cell_type": "markdown",
   "metadata": {
    "slideshow": {
     "slide_type": "slide"
    }
   },
   "source": [
    "## It happens in real life too\n",
    "\n",
    "\n",
    "### What's wrong with this picture?\n",
    "\n",
    "\n",
    "<img src='imgs/wrong_chart.png' width=800>"
   ]
  },
  {
   "cell_type": "markdown",
   "metadata": {
    "slideshow": {
     "slide_type": "slide"
    }
   },
   "source": [
    "## Types of visualizations\n",
    "\n",
    "- **Visualizing x-y relationships**: scatterplot, bubble chart\n",
    "- **Visualizing distributions**: histograms, density plots, boxplots\n",
    "- **Categorical plots**: bar plots, boxplots\n",
    "- **Visualizing geospatial data**: choropleth, cartogram\n",
    "\n",
    "There are a lot of types!"
   ]
  },
  {
   "cell_type": "markdown",
   "metadata": {
    "slideshow": {
     "slide_type": "slide"
    }
   },
   "source": [
    "## Relational Plots\n",
    "\n",
    "- Relational plots visualize relationships between two numeric variables\n",
    "- There are two types of relational plots in `seaborn`: scatter plots and line plots\n",
    "\n",
    "![relational](imgs/seaborn_relational.png)"
   ]
  },
  {
   "cell_type": "markdown",
   "metadata": {
    "slideshow": {
     "slide_type": "slide"
    }
   },
   "source": [
    "## Distribution Plots\n",
    "\n",
    "- Distribution plots visualize how one or more variables are distributed\n",
    "- There are many types of distribution plots in `seaborn` &mdash; a few examples are shown below\n",
    "\n",
    "![distributions](imgs/seaborn_distributions.png)"
   ]
  },
  {
   "cell_type": "markdown",
   "metadata": {
    "slideshow": {
     "slide_type": "slide"
    }
   },
   "source": [
    "## Categorical Plots\n",
    "\n",
    "- Categorical plots visualize relationships between two variables where one of the variables (x- or y-axis) is categorical (divided into discrete groups)\n",
    "- There are many types of categorical plots in `seaborn` &mdash; a few examples are shown below\n",
    "\n",
    "![categorical](imgs/seaborn_categorical.png)"
   ]
  },
  {
   "cell_type": "markdown",
   "metadata": {
    "slideshow": {
     "slide_type": "slide"
    }
   },
   "source": [
    "## Visualizing amounts\n",
    "\n",
    "### Simple\n",
    "\n",
    "<img src='imgs/amounts-1.png' width=500>\n",
    "\n",
    "- Example: Population of countries\n",
    "- For vertical bar chart (the first one on the left):\n",
    "    - x-axis: country (represents each bar)\n",
    "    - y-axis: population (represents size of bar)\n",
    "    - color: can be used to highlight a particular country I'm talking about\n",
    "\n"
   ]
  },
  {
   "cell_type": "markdown",
   "metadata": {
    "slideshow": {
     "slide_type": "slide"
    }
   },
   "source": [
    "## Visualizing amounts\n",
    "\n",
    "### More complex\n",
    "\n",
    "<img src='imgs/amounts_multi-1.png' width=500>\n",
    "\n",
    "- Example: Sales by business unit by continent\n",
    "- For vertical grouped bars (the first one on the left):\n",
    "    - x-axis: Business unit by continent, grouped by continent\n",
    "    - y-axis: Sales in USD\n",
    "    - color: Each business unit gets a different color"
   ]
  },
  {
   "cell_type": "markdown",
   "metadata": {
    "slideshow": {
     "slide_type": "slide"
    }
   },
   "source": [
    "## Multi-panel figures\n",
    "\n",
    "<img src='imgs/BA-degrees-variable-y-lims-1.png' width=600>\n",
    "\n",
    "* Why is this confusing?"
   ]
  },
  {
   "cell_type": "markdown",
   "metadata": {
    "slideshow": {
     "slide_type": "slide"
    }
   },
   "source": [
    "## Multi-panel figures - the fix\n",
    "\n",
    "<img src='imgs/BA-degrees-fixed-y-lims-1.png' width=600>\n",
    "\n",
    "* Here, the axes are comparable"
   ]
  },
  {
   "cell_type": "markdown",
   "metadata": {
    "slideshow": {
     "slide_type": "slide"
    }
   },
   "source": [
    "## Principles\n",
    "1.  Principle of proportional ink\n",
    "* Picking colours that have meaning\n",
    "* Use encodings to your advantage\n",
    "* Label clearly"
   ]
  },
  {
   "cell_type": "markdown",
   "metadata": {
    "slideshow": {
     "slide_type": "fragment"
    }
   },
   "source": [
    "Where do this principles come from?\n",
    "\n",
    "[Calling BS THE ART OF SKEPTICISM IN A DATA-DRIVEN WORLD](https://www.penguinrandomhouse.com/books/563882/calling-bullshit-by-carl-t-bergstrom-and-jevin-d-west/)\n",
    "\n",
    "[THE VISUAL DISPLAY OF QUANTITATIVE INFORMATION, Tufte](https://www.edwardtufte.com/tufte/books_vdqi)"
   ]
  },
  {
   "cell_type": "markdown",
   "metadata": {
    "slideshow": {
     "slide_type": "slide"
    }
   },
   "source": [
    "## Principle 1: Principle of proportional ink\n",
    "\n",
    "*\"When a shaded region is used to represent a numerical value, the area of that shaded region should be directly proportional to the corresponding value.\"*\n",
    "\n",
    "#### Example 1\n",
    "\n",
    "<img src='imgs/top10books.jpg' width=600>\n",
    "\n",
    "\n",
    "Source: [callingbullshit.org](https://callingbullshit.org/tools/tools_proportional_ink.html)"
   ]
  },
  {
   "cell_type": "markdown",
   "metadata": {
    "slideshow": {
     "slide_type": "slide"
    }
   },
   "source": [
    "## Principle 1: Principle of proportional ink\n",
    "\n",
    "#### Example 2\n",
    "\n",
    "<img src='imgs/effective_tax_rate.png' width=600>\n",
    "\n",
    "\n",
    "Source: [callingbullshit.org](https://callingbullshit.org/tools/tools_proportional_ink.html)"
   ]
  },
  {
   "cell_type": "markdown",
   "metadata": {
    "slideshow": {
     "slide_type": "slide"
    }
   },
   "source": [
    "## Principle 2: Wise use of color that adds meaning\n",
    "\n",
    "#### Example 1: Using color to represent discrete items or groups that don't have an intrinsic order\n",
    "\n",
    "<img src='imgs/popgrowth-US-1.png' width=500>"
   ]
  },
  {
   "cell_type": "markdown",
   "metadata": {
    "slideshow": {
     "slide_type": "slide"
    }
   },
   "source": [
    "## Principle 2: Wise use of color that adds meaning\n",
    "\n",
    "#### Example 2: Using color to represent data values\n",
    "\n",
    "<img src='imgs/map-Texas-income-1.png' width=500>"
   ]
  },
  {
   "cell_type": "markdown",
   "metadata": {
    "slideshow": {
     "slide_type": "slide"
    }
   },
   "source": [
    "## Principle 2: Wise use of color that adds meaning\n",
    "\n",
    "#### Example 3: Using color to represent data values - divergent scale\n",
    "\n",
    "<img src='imgs/map-Texas-race-1.png' width=500>"
   ]
  },
  {
   "cell_type": "markdown",
   "metadata": {
    "slideshow": {
     "slide_type": "slide"
    }
   },
   "source": [
    "## Principle 2: Wise use of color that adds meaning\n",
    "\n",
    "#### Example 4: Using color as a tool to highlight\n",
    "\n",
    "<img src='imgs/Aus-athletes-track-1.png' width=500>"
   ]
  },
  {
   "cell_type": "markdown",
   "metadata": {
    "slideshow": {
     "slide_type": "slide"
    }
   },
   "source": [
    "## Principle 2: Wise use of color that adds meaning\n",
    "\n",
    "#### Example 5: Bad use of color\n",
    "\n",
    "Encoding too much or irrelevant information.\n",
    "\n",
    "<img src='imgs/popgrowth-vs-popsize-colored-1.png' width=500>"
   ]
  },
  {
   "cell_type": "markdown",
   "metadata": {
    "slideshow": {
     "slide_type": "slide"
    }
   },
   "source": [
    "## Principle 2: Wise use of color that adds meaning\n",
    "\n",
    "#### Example 6: Bad use of color\n",
    "\n",
    "Which pink?!\n",
    "\n",
    "<img src='imgs/popgrowth-US-rainbow-1.png' width=500>"
   ]
  },
  {
   "cell_type": "markdown",
   "metadata": {
    "slideshow": {
     "slide_type": "slide"
    }
   },
   "source": [
    "## Principle 3: Use encodings to your advantage\n",
    "- Pick the right encoding for your purpose\n",
    "\n",
    "<img src='imgs/encodings.png' width=600>\n",
    "\n",
    "Source: [Designing Data Visualizations](https://www.oreilly.com/library/view/designing-data-visualizations/9781449314774/ch04.html)"
   ]
  },
  {
   "cell_type": "markdown",
   "metadata": {
    "slideshow": {
     "slide_type": "slide"
    }
   },
   "source": [
    "## Principle 3: Use encodings to your advantage\n",
    "\n",
    "#### Example 1: Redundant encoding\n",
    "\n",
    "<img src='imgs/iris-redundant-encoding.png' width=500>"
   ]
  },
  {
   "cell_type": "markdown",
   "metadata": {
    "slideshow": {
     "slide_type": "slide"
    }
   },
   "source": [
    "## Principle 4: Label clearly\n",
    "\n",
    "#### Example 1a: Every figure needs a title\n",
    "<br>\n",
    "<br>\n",
    "<img src='imgs/corruption-development-1.png' width=600>\n"
   ]
  },
  {
   "cell_type": "markdown",
   "metadata": {
    "slideshow": {
     "slide_type": "slide"
    }
   },
   "source": [
    "## Principle 4: Label clearly\n",
    "\n",
    "#### Example 1b: Every figure needs a title\n",
    "<br>\n",
    "<br>\n",
    "<img src='imgs/corruption-development-infographic-1.png' width=600>\n"
   ]
  },
  {
   "cell_type": "markdown",
   "metadata": {
    "slideshow": {
     "slide_type": "slide"
    }
   },
   "source": [
    "## Principle 4: Label clearly\n",
    "\n",
    "#### Example 2a: Axes labels\n",
    "<br>\n",
    "<br>\n",
    "\n",
    "\n",
    "<img src='imgs/tech-stocks-minimal-labeling-bad-1.png' width=500>\n"
   ]
  },
  {
   "cell_type": "markdown",
   "metadata": {
    "slideshow": {
     "slide_type": "slide"
    }
   },
   "source": [
    "## Principle 4: Label clearly\n",
    "\n",
    "#### Example 2b: Axes labels\n",
    "<br>\n",
    "<br>\n",
    "\n",
    "<img src='imgs/tech-stocks-minimal-labeling-1.png' width=500>\n"
   ]
  },
  {
   "cell_type": "markdown",
   "metadata": {
    "slideshow": {
     "slide_type": "slide"
    }
   },
   "source": [
    "## Principle 4: Label clearly\n",
    "\n",
    "#### Example 3: Useful legends\n",
    "<br>\n",
    "<br>\n",
    "\n",
    "\n",
    "<img src='imgs/blue-jays-scatter-bubbles2-1.png' width=500>\n"
   ]
  },
  {
   "cell_type": "markdown",
   "metadata": {
    "slideshow": {
     "slide_type": "slide"
    }
   },
   "source": [
    "## Principle 5: Be mindful AND inclusive\n",
    "\n",
    "#### Design for color-vision deficiency\n",
    "\n",
    "By providing eight different colors, you guarantee to reach most public."
   ]
  },
  {
   "cell_type": "markdown",
   "metadata": {},
   "source": [
    "For additional resources, check out the following:\n",
    "- `pandas`: [visualization tutorial](https://pandas.pydata.org/docs/getting_started/intro_tutorials/04_plotting.html#min-tut-04-plotting)\n",
    "- `seaborn`: [quick intro tutorial](https://seaborn.pydata.org/introduction.html) and [detailed tutorials](https://seaborn.pydata.org/tutorial.html)\n",
    "- `plotly`: [Plotly Express tutorial](https://plotly.com/python/plotly-express/)\n",
    "- Source for this lecture: [Fundamentals of Data Visualization](https://serialmentor.com/dataviz/index.html)\n",
    "- Tutorial for altair: [Altair](https://viz-learn.mds.ubc.ca/)"
   ]
  },
  {
   "cell_type": "markdown",
   "metadata": {},
   "source": [
    "plotly graph objects \n",
    "\n",
    "\n",
    "plotly express"
   ]
  },
  {
   "cell_type": "code",
   "execution_count": null,
   "metadata": {},
   "outputs": [],
   "source": []
  }
 ],
 "metadata": {
  "celltoolbar": "Slideshow",
  "kernelspec": {
   "display_name": "Python 3",
   "language": "python",
   "name": "python3"
  },
  "language_info": {
   "codemirror_mode": {
    "name": "ipython",
    "version": 3
   },
   "file_extension": ".py",
   "mimetype": "text/x-python",
   "name": "python",
   "nbconvert_exporter": "python",
   "pygments_lexer": "ipython3",
   "version": "3.7.4"
  }
 },
 "nbformat": 4,
 "nbformat_minor": 4
}
