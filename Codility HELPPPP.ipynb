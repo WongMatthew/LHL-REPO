{
 "cells": [
  {
   "cell_type": "code",
   "execution_count": 6,
   "id": "c0fab0dd-2c97-484e-8c99-1b8c29859cdd",
   "metadata": {},
   "outputs": [],
   "source": [
    "def soln(A):\n",
    "    distinct = {*A}\n",
    "    print(distinct)\n",
    "    \n",
    "    index = 1\n",
    "    \n",
    "    while True:\n",
    "        if index not in distinct:\n",
    "            return index\n",
    "        else:\n",
    "            index += 1"
   ]
  },
  {
   "cell_type": "code",
   "execution_count": 7,
   "id": "778f32f2",
   "metadata": {},
   "outputs": [
    {
     "name": "stdout",
     "output_type": "stream",
     "text": [
      "{1, 2, 3}\n"
     ]
    },
    {
     "data": {
      "text/plain": [
       "4"
      ]
     },
     "metadata": {},
     "output_type": "display_data"
    },
    {
     "name": "stdout",
     "output_type": "stream",
     "text": [
      "{0, 1, 4, 5, -1, -2}\n"
     ]
    },
    {
     "data": {
      "text/plain": [
       "2"
      ]
     },
     "metadata": {},
     "output_type": "display_data"
    },
    {
     "name": "stdout",
     "output_type": "stream",
     "text": [
      "{-5, -4, -1}\n"
     ]
    },
    {
     "data": {
      "text/plain": [
       "1"
      ]
     },
     "metadata": {},
     "output_type": "display_data"
    }
   ],
   "source": [
    "A = [1,1,3,2,3]\n",
    "B = [-2,0,-1,4,5,1]\n",
    "C = [-4,-5,-1]\n",
    "\n",
    "display(solution(A))\n",
    "display(solution(B))\n",
    "display(solution(C))"
   ]
  },
  {
   "cell_type": "code",
   "execution_count": 10,
   "id": "4996cd1e",
   "metadata": {},
   "outputs": [
    {
     "data": {
      "text/plain": [
       "True"
      ]
     },
     "execution_count": 10,
     "metadata": {},
     "output_type": "execute_result"
    }
   ],
   "source": [
    "100 % 4 == 0"
   ]
  },
  {
   "cell_type": "code",
   "execution_count": 45,
   "id": "519732a0",
   "metadata": {},
   "outputs": [],
   "source": [
    "def solnu(A):\n",
    "    total = 0\n",
    "    i = 0\n",
    "      \n",
    "    while i < len(A):\n",
    "        if (A[i] % 4 == 0) == True:\n",
    "            total += A[i]\n",
    "            i +=1\n",
    "        else:\n",
    "            i +=1\n",
    "    return total"
   ]
  },
  {
   "cell_type": "code",
   "execution_count": 46,
   "id": "0dbaddf3",
   "metadata": {},
   "outputs": [
    {
     "data": {
      "text/plain": [
       "-16"
      ]
     },
     "metadata": {},
     "output_type": "display_data"
    }
   ],
   "source": [
    "A = [-6, -91, 1011, -100, 84, -22, 0, 1, 473]\n",
    "\n",
    "display(solution(A))"
   ]
  },
  {
   "cell_type": "code",
   "execution_count": 239,
   "id": "0bb58584",
   "metadata": {},
   "outputs": [],
   "source": [
    "def solutio(S, C):\n",
    "    new = S.split(\"\\n\")\n",
    "    \n",
    "    count = 0\n",
    "    i = 0\n",
    "    j = 0\n",
    "    l = 0\n",
    "    empty_string = \"\"\n",
    "    arr = []\n",
    "    \n",
    "    while j < len(new):\n",
    "        while i < len(new[j]):\n",
    "            empty_string += new[j][i]\n",
    "            i +=1\n",
    "        a = empty_string.split(\",\")\n",
    "        arr.append(a)\n",
    "        empty_string = \"\"\n",
    "        i = 0\n",
    "        j +=1\n",
    "    \n",
    "    \n",
    "    \n",
    "    while l < len(arr):\n",
    "        while i < len(arr[l]):\n",
    "            count +=1\n",
    "            if arr[l][i] == C:\n",
    "                break\n",
    "            break\n",
    "            i +=1\n",
    "        l +=1\n",
    "\n",
    "    l = 1\n",
    "    maximum = 0\n",
    "    \n",
    "    count -=1\n",
    "    \n",
    "    while l < len(arr):\n",
    "        num = int(arr[l][count])\n",
    "        if num > maximum:\n",
    "            maximum = arr[l][count]\n",
    "    \n",
    "    ''' \n",
    "    while i < len(arr[i]):\n",
    "        for i in arr[i]:\n",
    "            print(arr[i])\n",
    "\n",
    "    for i in arr1:\n",
    "        if arr1[i] == C:\n",
    "            pass\n",
    "        else:\n",
    "            count += 1\n",
    "    return count\n",
    "    '''"
   ]
  },
  {
   "cell_type": "code",
   "execution_count": 240,
   "id": "ffb2bb8d",
   "metadata": {},
   "outputs": [
    {
     "name": "stdout",
     "output_type": "stream",
     "text": [
      "68\n",
      "68\n"
     ]
    },
    {
     "ename": "TypeError",
     "evalue": "'>' not supported between instances of 'int' and 'str'",
     "output_type": "error",
     "traceback": [
      "\u001b[1;31m---------------------------------------------------------------------------\u001b[0m",
      "\u001b[1;31mTypeError\u001b[0m                                 Traceback (most recent call last)",
      "\u001b[1;32m<ipython-input-240-0fa537cb990e>\u001b[0m in \u001b[0;36m<module>\u001b[1;34m\u001b[0m\n\u001b[0;32m      2\u001b[0m \u001b[0mpart\u001b[0m \u001b[1;33m=\u001b[0m \u001b[1;34m'age'\u001b[0m\u001b[1;33m\u001b[0m\u001b[1;33m\u001b[0m\u001b[0m\n\u001b[0;32m      3\u001b[0m \u001b[1;33m\u001b[0m\u001b[0m\n\u001b[1;32m----> 4\u001b[1;33m \u001b[0msolutio\u001b[0m\u001b[1;33m(\u001b[0m\u001b[0mstring\u001b[0m\u001b[1;33m,\u001b[0m \u001b[0mpart\u001b[0m\u001b[1;33m)\u001b[0m\u001b[1;33m\u001b[0m\u001b[1;33m\u001b[0m\u001b[0m\n\u001b[0m",
      "\u001b[1;32m<ipython-input-239-9495fe960e2e>\u001b[0m in \u001b[0;36msolutio\u001b[1;34m(S, C)\u001b[0m\n\u001b[0;32m     39\u001b[0m         \u001b[0mprint\u001b[0m\u001b[1;33m(\u001b[0m\u001b[0mnum\u001b[0m\u001b[1;33m)\u001b[0m\u001b[1;33m\u001b[0m\u001b[1;33m\u001b[0m\u001b[0m\n\u001b[0;32m     40\u001b[0m         \u001b[0mtype\u001b[0m\u001b[1;33m(\u001b[0m\u001b[0mnum\u001b[0m\u001b[1;33m)\u001b[0m\u001b[1;33m\u001b[0m\u001b[1;33m\u001b[0m\u001b[0m\n\u001b[1;32m---> 41\u001b[1;33m         \u001b[1;32mif\u001b[0m \u001b[0mnum\u001b[0m \u001b[1;33m>\u001b[0m \u001b[0mmaximum\u001b[0m\u001b[1;33m:\u001b[0m\u001b[1;33m\u001b[0m\u001b[1;33m\u001b[0m\u001b[0m\n\u001b[0m\u001b[0;32m     42\u001b[0m             \u001b[0mmaximum\u001b[0m \u001b[1;33m=\u001b[0m \u001b[0marr\u001b[0m\u001b[1;33m[\u001b[0m\u001b[0ml\u001b[0m\u001b[1;33m]\u001b[0m\u001b[1;33m[\u001b[0m\u001b[0mcount\u001b[0m\u001b[1;33m]\u001b[0m\u001b[1;33m\u001b[0m\u001b[1;33m\u001b[0m\u001b[0m\n\u001b[0;32m     43\u001b[0m     \u001b[1;31m#print(maximum)\u001b[0m\u001b[1;33m\u001b[0m\u001b[1;33m\u001b[0m\u001b[1;33m\u001b[0m\u001b[0m\n",
      "\u001b[1;31mTypeError\u001b[0m: '>' not supported between instances of 'int' and 'str'"
     ]
    }
   ],
   "source": [
    "string = 'id,name,age,act.,room,dep.\\n1,Jack,68,T,13,8\\n17,Betty,28,F,15,7'\n",
    "part = 'age'\n",
    "\n",
    "solutio(string, part)"
   ]
  },
  {
   "cell_type": "code",
   "execution_count": 138,
   "id": "4ad917c3",
   "metadata": {},
   "outputs": [],
   "source": [
    "from io import StringIO\n",
    "from csv import reader\n",
    "\n",
    "def soluti(S, C):\n",
    "    header = (data := list(reader(StringIO(S)))).pop(0)\n",
    "    return max(row[header.index(C)] for row in data)"
   ]
  },
  {
   "cell_type": "code",
   "execution_count": 139,
   "id": "06d02e9a",
   "metadata": {},
   "outputs": [
    {
     "data": {
      "text/plain": [
       "'68'"
      ]
     },
     "execution_count": 139,
     "metadata": {},
     "output_type": "execute_result"
    }
   ],
   "source": [
    "string = 'id,name,age,act.,room,dep.\\n1,Jack,68,T,13,8\\n17,Betty,28,F,15,7'\n",
    "part = 'age'\n",
    "\n",
    "soluti(string, part)"
   ]
  },
  {
   "cell_type": "code",
   "execution_count": 243,
   "id": "d1298cf2",
   "metadata": {},
   "outputs": [],
   "source": [
    "def solution(A, D):\n",
    "    total = sum(A)\n",
    "    payment = 60\n",
    "    for i in A:\n",
    "        if i > 100:\n",
    "            payment -=5\n",
    "    total = total - payment\n",
    "    return total"
   ]
  },
  {
   "cell_type": "code",
   "execution_count": 244,
   "id": "e03a14f9",
   "metadata": {},
   "outputs": [
    {
     "name": "stdout",
     "output_type": "stream",
     "text": [
      "80\n"
     ]
    }
   ],
   "source": [
    "A = [100, 100, -10, -20, -30]\n",
    "D = ['2020-01-01', '2020-02-01', '2020-02-11', '2020-02-05', '2020-02-08']\n",
    "\n",
    "solution(A, D)"
   ]
  },
  {
   "cell_type": "code",
   "execution_count": 245,
   "id": "a0518352",
   "metadata": {},
   "outputs": [
    {
     "name": "stdout",
     "output_type": "stream",
     "text": [
      "-164\n"
     ]
    }
   ],
   "source": [
    "A = [1, -1, 0, -105, 1]\n",
    "D = ['2020-12-31', '2020-04-04', '2020-04-04', '2020-04-14', '2020-07-12']\n",
    "\n",
    "solution(A, D)"
   ]
  },
  {
   "cell_type": "code",
   "execution_count": null,
   "id": "06ae5238",
   "metadata": {},
   "outputs": [],
   "source": []
  }
 ],
 "metadata": {
  "kernelspec": {
   "display_name": "Python 3",
   "language": "python",
   "name": "python3"
  },
  "language_info": {
   "codemirror_mode": {
    "name": "ipython",
    "version": 3
   },
   "file_extension": ".py",
   "mimetype": "text/x-python",
   "name": "python",
   "nbconvert_exporter": "python",
   "pygments_lexer": "ipython3",
   "version": "3.8.8"
  }
 },
 "nbformat": 4,
 "nbformat_minor": 5
}
