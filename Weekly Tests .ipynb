{
 "cells": [
  {
   "cell_type": "code",
   "execution_count": 6,
   "metadata": {},
   "outputs": [
    {
     "data": {
      "text/plain": [
       "True"
      ]
     },
     "execution_count": 6,
     "metadata": {},
     "output_type": "execute_result"
    }
   ],
   "source": [
    "def equal_slices(total_slices, no_recipients, slices_each): \n",
    "    return (slices_each * no_recipients) <= total_slices\n",
    "\n",
    "equal_slices(24, 12, 2)"
   ]
  },
  {
   "cell_type": "code",
   "execution_count": 34,
   "metadata": {},
   "outputs": [
    {
     "data": {
      "text/plain": [
       "(True, 1)"
      ]
     },
     "execution_count": 34,
     "metadata": {},
     "output_type": "execute_result"
    }
   ],
   "source": [
    "def equal_slices(total_slices, no_recipients, slices_each):\n",
    "    num_slices = slices_each * no_recipients\n",
    "    remainder = max(0, total_slices - (slices_each * no_recipients))\n",
    "    \n",
    "    if no_recipients == 0:\n",
    "        return True, total_slices\n",
    "    \n",
    "    elif ((slices_each * no_recipients) <= total_slices) == False:\n",
    "        return (slices_each * no_recipients) <= total_slices, None\n",
    "    \n",
    "    else:\n",
    "        return (slices_each * no_recipients) <= total_slices, remainder\n",
    "    \n",
    "    \n",
    "equal_slices(11, 5, 2)"
   ]
  },
  {
   "cell_type": "code",
   "execution_count": 51,
   "metadata": {},
   "outputs": [
    {
     "data": {
      "text/plain": [
       "5"
      ]
     },
     "execution_count": 51,
     "metadata": {},
     "output_type": "execute_result"
    }
   ],
   "source": [
    "def count_unique_chars(string_1, string_2):\n",
    "    strings = string_1 + string_2\n",
    "    return len(set(strings)) \n",
    "    \n",
    "count_unique_chars(\"a\", \"soup\")"
   ]
  },
  {
   "cell_type": "code",
   "execution_count": 55,
   "metadata": {},
   "outputs": [
    {
     "data": {
      "text/plain": [
       "'CBA'"
      ]
     },
     "execution_count": 55,
     "metadata": {},
     "output_type": "execute_result"
    }
   ],
   "source": [
    "def reverse_capitalize(string):\n",
    "    return string.upper()[::-1]\n",
    "\n",
    "reverse_capitalize(\"abc\")"
   ]
  },
  {
   "cell_type": "code",
   "execution_count": 69,
   "metadata": {},
   "outputs": [
    {
     "data": {
      "text/plain": [
       "True"
      ]
     },
     "execution_count": 69,
     "metadata": {},
     "output_type": "execute_result"
    }
   ],
   "source": [
    "def divisible(integer):\n",
    "    return True if integer % 100 == 0 else False\n",
    "\n",
    "divisible(500)"
   ]
  },
  {
   "cell_type": "code",
   "execution_count": 8,
   "metadata": {},
   "outputs": [
    {
     "data": {
      "text/plain": [
       "[0, 1729]"
      ]
     },
     "execution_count": 8,
     "metadata": {},
     "output_type": "execute_result"
    }
   ],
   "source": [
    "def filter_list(lst):\n",
    "    new_list = []\n",
    "    for i in lst:\n",
    "        if isinstance(i, int) == True:\n",
    "            new_list.append(i)\n",
    "    return new_list\n",
    "    \n",
    "filter_list([1, 2, 3, \"a\", \"b\", 4]) \n",
    "filter_list(['A', 0, 'Edabit', 1729, 'Python', '1729'])"
   ]
  },
  {
   "cell_type": "code",
   "execution_count": 14,
   "metadata": {},
   "outputs": [
    {
     "data": {
      "text/plain": [
       "3.0"
      ]
     },
     "execution_count": 14,
     "metadata": {},
     "output_type": "execute_result"
    }
   ],
   "source": [
    "def mean(digits):\n",
    "    counter = 0\n",
    "    total = 0\n",
    "    for i in str(digits):\n",
    "        counter += 1\n",
    "        total += int(i)\n",
    "    return total / counter\n",
    "    \n",
    "mean(42)"
   ]
  },
  {
   "cell_type": "code",
   "execution_count": 17,
   "metadata": {},
   "outputs": [
    {
     "data": {
      "text/plain": [
       "{'LETTERS': 7, 'DIGITS': 3}"
      ]
     },
     "execution_count": 17,
     "metadata": {},
     "output_type": "execute_result"
    }
   ],
   "source": [
    "def count_all(string):\n",
    "    Lcount = 0\n",
    "    Dcount = 0\n",
    "    dic = {}\n",
    "    \n",
    "    for i in string:\n",
    "        if i.isdigit():\n",
    "            Dcount+=1\n",
    "        elif i.isalpha():\n",
    "            Lcount+=1\n",
    "            \n",
    "    dic['LETTERS'] = Lcount\n",
    "    dic['DIGITS'] = Dcount\n",
    "    \n",
    "    return dic\n",
    "    \n",
    "count_all(\"H3ll0 Wor1d\")    "
   ]
  },
  {
   "cell_type": "code",
   "execution_count": 11,
   "metadata": {},
   "outputs": [
    {
     "data": {
      "text/html": [
       "<div>\n",
       "<style scoped>\n",
       "    .dataframe tbody tr th:only-of-type {\n",
       "        vertical-align: middle;\n",
       "    }\n",
       "\n",
       "    .dataframe tbody tr th {\n",
       "        vertical-align: top;\n",
       "    }\n",
       "\n",
       "    .dataframe thead th {\n",
       "        text-align: right;\n",
       "    }\n",
       "</style>\n",
       "<table border=\"1\" class=\"dataframe\">\n",
       "  <thead>\n",
       "    <tr style=\"text-align: right;\">\n",
       "      <th></th>\n",
       "      <th>Name</th>\n",
       "      <th>Age</th>\n",
       "      <th>Rating</th>\n",
       "    </tr>\n",
       "  </thead>\n",
       "  <tbody>\n",
       "    <tr>\n",
       "      <th>0</th>\n",
       "      <td>Andres</td>\n",
       "      <td>25</td>\n",
       "      <td>4.23</td>\n",
       "    </tr>\n",
       "    <tr>\n",
       "      <th>1</th>\n",
       "      <td>James</td>\n",
       "      <td>26</td>\n",
       "      <td>3.24</td>\n",
       "    </tr>\n",
       "    <tr>\n",
       "      <th>2</th>\n",
       "      <td>David</td>\n",
       "      <td>25</td>\n",
       "      <td>3.98</td>\n",
       "    </tr>\n",
       "    <tr>\n",
       "      <th>3</th>\n",
       "      <td>Vin</td>\n",
       "      <td>23</td>\n",
       "      <td>2.56</td>\n",
       "    </tr>\n",
       "    <tr>\n",
       "      <th>4</th>\n",
       "      <td>Steve</td>\n",
       "      <td>30</td>\n",
       "      <td>3.20</td>\n",
       "    </tr>\n",
       "    <tr>\n",
       "      <th>5</th>\n",
       "      <td>David</td>\n",
       "      <td>29</td>\n",
       "      <td>4.60</td>\n",
       "    </tr>\n",
       "    <tr>\n",
       "      <th>6</th>\n",
       "      <td>Jack</td>\n",
       "      <td>23</td>\n",
       "      <td>3.80</td>\n",
       "    </tr>\n",
       "    <tr>\n",
       "      <th>7</th>\n",
       "      <td>Lee</td>\n",
       "      <td>34</td>\n",
       "      <td>3.78</td>\n",
       "    </tr>\n",
       "    <tr>\n",
       "      <th>8</th>\n",
       "      <td>David</td>\n",
       "      <td>40</td>\n",
       "      <td>2.98</td>\n",
       "    </tr>\n",
       "    <tr>\n",
       "      <th>9</th>\n",
       "      <td>Gasper</td>\n",
       "      <td>30</td>\n",
       "      <td>4.80</td>\n",
       "    </tr>\n",
       "    <tr>\n",
       "      <th>10</th>\n",
       "      <td>Betina</td>\n",
       "      <td>51</td>\n",
       "      <td>4.10</td>\n",
       "    </tr>\n",
       "    <tr>\n",
       "      <th>11</th>\n",
       "      <td>Andres</td>\n",
       "      <td>46</td>\n",
       "      <td>3.65</td>\n",
       "    </tr>\n",
       "  </tbody>\n",
       "</table>\n",
       "</div>"
      ],
      "text/plain": [
       "      Name  Age  Rating\n",
       "0   Andres   25    4.23\n",
       "1    James   26    3.24\n",
       "2    David   25    3.98\n",
       "3      Vin   23    2.56\n",
       "4    Steve   30    3.20\n",
       "5    David   29    4.60\n",
       "6     Jack   23    3.80\n",
       "7      Lee   34    3.78\n",
       "8    David   40    2.98\n",
       "9   Gasper   30    4.80\n",
       "10  Betina   51    4.10\n",
       "11  Andres   46    3.65"
      ]
     },
     "execution_count": 11,
     "metadata": {},
     "output_type": "execute_result"
    }
   ],
   "source": [
    "import pandas as pd\n",
    "import numpy as np\n",
    "\n",
    "#Create a Dictionary of series\n",
    "d = {'Name':pd.Series(['Andres','James','David','Vin','Steve','David','Jack',\n",
    "   'Lee','David','Gasper','Betina','Andres']),\n",
    "   'Age':pd.Series([25,26,25,23,30,29,23,34,40,30,51,46]),\n",
    "   'Rating':pd.Series([4.23,3.24,3.98,2.56,3.20,4.6,3.8,3.78,2.98,4.80,4.10,3.65])\n",
    "}\n",
    "\n",
    "#Create a DataFrame\n",
    "df = pd.DataFrame(d)\n",
    "\n",
    "\n",
    "df "
   ]
  },
  {
   "cell_type": "code",
   "execution_count": 18,
   "metadata": {},
   "outputs": [
    {
     "data": {
      "text/plain": [
       "('David', 31.833333333333332, 0.9024999999999999)"
      ]
     },
     "execution_count": 18,
     "metadata": {},
     "output_type": "execute_result"
    }
   ],
   "source": [
    "\"\"\"\n",
    "Write a function that takes df (defined above) as input and returns tuple with 3 values:\n",
    "   - Most common name (string)\n",
    "   - Average age (float)\n",
    "   - IQR of rating (float)\n",
    "\n",
    "Notes:\n",
    "   - Average age and IQR must be float not numpy.float64 type\n",
    "\"\"\"\n",
    "\n",
    "\n",
    "def compute_statistics(df):\n",
    "    Q3 = np.quantile(df['Rating'], 0.75)\n",
    "    Q1 = np.quantile(df['Rating'], 0.25)\n",
    "    IQR = Q3 - Q1\n",
    "    avg = df['Age'].mean()\n",
    "    comname = df['Name'].value_counts().idxmax()\n",
    "    return comname, avg, float(IQR)\n",
    "    \n",
    "compute_statistics(df)"
   ]
  },
  {
   "cell_type": "code",
   "execution_count": 34,
   "metadata": {},
   "outputs": [
    {
     "data": {
      "text/html": [
       "<div>\n",
       "<style scoped>\n",
       "    .dataframe tbody tr th:only-of-type {\n",
       "        vertical-align: middle;\n",
       "    }\n",
       "\n",
       "    .dataframe tbody tr th {\n",
       "        vertical-align: top;\n",
       "    }\n",
       "\n",
       "    .dataframe thead th {\n",
       "        text-align: right;\n",
       "    }\n",
       "</style>\n",
       "<table border=\"1\" class=\"dataframe\">\n",
       "  <thead>\n",
       "    <tr style=\"text-align: right;\">\n",
       "      <th></th>\n",
       "      <th>animal</th>\n",
       "      <th>age</th>\n",
       "      <th>visits</th>\n",
       "      <th>priority</th>\n",
       "    </tr>\n",
       "  </thead>\n",
       "  <tbody>\n",
       "    <tr>\n",
       "      <th>a</th>\n",
       "      <td>cat</td>\n",
       "      <td>2.5</td>\n",
       "      <td>1</td>\n",
       "      <td>yes</td>\n",
       "    </tr>\n",
       "    <tr>\n",
       "      <th>b</th>\n",
       "      <td>cat</td>\n",
       "      <td>3.0</td>\n",
       "      <td>3</td>\n",
       "      <td>yes</td>\n",
       "    </tr>\n",
       "    <tr>\n",
       "      <th>c</th>\n",
       "      <td>snake</td>\n",
       "      <td>0.5</td>\n",
       "      <td>2</td>\n",
       "      <td>no</td>\n",
       "    </tr>\n",
       "    <tr>\n",
       "      <th>d</th>\n",
       "      <td>dog</td>\n",
       "      <td>NaN</td>\n",
       "      <td>3</td>\n",
       "      <td>yes</td>\n",
       "    </tr>\n",
       "    <tr>\n",
       "      <th>e</th>\n",
       "      <td>dog</td>\n",
       "      <td>5.0</td>\n",
       "      <td>2</td>\n",
       "      <td>no</td>\n",
       "    </tr>\n",
       "    <tr>\n",
       "      <th>f</th>\n",
       "      <td>cat</td>\n",
       "      <td>2.0</td>\n",
       "      <td>3</td>\n",
       "      <td>no</td>\n",
       "    </tr>\n",
       "    <tr>\n",
       "      <th>g</th>\n",
       "      <td>snake</td>\n",
       "      <td>4.5</td>\n",
       "      <td>1</td>\n",
       "      <td>no</td>\n",
       "    </tr>\n",
       "    <tr>\n",
       "      <th>h</th>\n",
       "      <td>cat</td>\n",
       "      <td>NaN</td>\n",
       "      <td>1</td>\n",
       "      <td>yes</td>\n",
       "    </tr>\n",
       "    <tr>\n",
       "      <th>i</th>\n",
       "      <td>dog</td>\n",
       "      <td>7.0</td>\n",
       "      <td>2</td>\n",
       "      <td>no</td>\n",
       "    </tr>\n",
       "    <tr>\n",
       "      <th>j</th>\n",
       "      <td>dog</td>\n",
       "      <td>3.0</td>\n",
       "      <td>1</td>\n",
       "      <td>no</td>\n",
       "    </tr>\n",
       "  </tbody>\n",
       "</table>\n",
       "</div>"
      ],
      "text/plain": [
       "  animal  age  visits priority\n",
       "a    cat  2.5       1      yes\n",
       "b    cat  3.0       3      yes\n",
       "c  snake  0.5       2       no\n",
       "d    dog  NaN       3      yes\n",
       "e    dog  5.0       2       no\n",
       "f    cat  2.0       3       no\n",
       "g  snake  4.5       1       no\n",
       "h    cat  NaN       1      yes\n",
       "i    dog  7.0       2       no\n",
       "j    dog  3.0       1       no"
      ]
     },
     "execution_count": 34,
     "metadata": {},
     "output_type": "execute_result"
    }
   ],
   "source": [
    "data = {'animal': ['cat', 'cat', 'snake', 'dog', 'dog', 'cat', 'snake', 'cat', 'dog', 'dog'],\n",
    "        'age': [2.5, 3, 0.5, np.nan, 5, 2, 4.5, np.nan, 7, 3],\n",
    "        'visits': [1, 3, 2, 3, 2, 3, 1, 1, 2, 1],\n",
    "        'priority': ['yes', 'yes', 'no', 'yes', 'no', 'no', 'no', 'yes', 'no', 'no']}\n",
    "\n",
    "labels = ['a', 'b', 'c', 'd', 'e', 'f', 'g', 'h', 'i', 'j']\n",
    "\n",
    "df = pd.DataFrame(data, index=labels)\n",
    "\n",
    "df"
   ]
  },
  {
   "cell_type": "code",
   "execution_count": 50,
   "metadata": {},
   "outputs": [
    {
     "data": {
      "text/html": [
       "<div>\n",
       "<style scoped>\n",
       "    .dataframe tbody tr th:only-of-type {\n",
       "        vertical-align: middle;\n",
       "    }\n",
       "\n",
       "    .dataframe tbody tr th {\n",
       "        vertical-align: top;\n",
       "    }\n",
       "\n",
       "    .dataframe thead th {\n",
       "        text-align: right;\n",
       "    }\n",
       "</style>\n",
       "<table border=\"1\" class=\"dataframe\">\n",
       "  <thead>\n",
       "    <tr style=\"text-align: right;\">\n",
       "      <th></th>\n",
       "    </tr>\n",
       "  </thead>\n",
       "  <tbody>\n",
       "  </tbody>\n",
       "</table>\n",
       "</div>"
      ],
      "text/plain": [
       "Empty DataFrame\n",
       "Columns: []\n",
       "Index: []"
      ]
     },
     "execution_count": 50,
     "metadata": {},
     "output_type": "execute_result"
    }
   ],
   "source": [
    "\"\"\"\n",
    "Write a function that takes dataframe df (defined above) and string with animal as inputs and returns rows where animal is equal to string (parameter function) and age is less than 3.\n",
    "\n",
    "Notes:\n",
    "        - Return empty DataFrame if wrong animal is written\n",
    "\"\"\"\n",
    "\n",
    "def filter_animals(df,animal):\n",
    "    \n",
    "    newDF = pd.DataFrame()\n",
    "    \n",
    "    if df['animal'].str.contains(animal).any():\n",
    "        return df[df['animal'].str.contains(animal)][df['age'] < 3]\n",
    "    else:\n",
    "        return newDF\n",
    "        \n",
    "filter_animals(df,'joe')"
   ]
  },
  {
   "cell_type": "code",
   "execution_count": 23,
   "metadata": {},
   "outputs": [
    {
     "data": {
      "text/html": [
       "<div>\n",
       "<style scoped>\n",
       "    .dataframe tbody tr th:only-of-type {\n",
       "        vertical-align: middle;\n",
       "    }\n",
       "\n",
       "    .dataframe tbody tr th {\n",
       "        vertical-align: top;\n",
       "    }\n",
       "\n",
       "    .dataframe thead th {\n",
       "        text-align: right;\n",
       "    }\n",
       "</style>\n",
       "<table border=\"1\" class=\"dataframe\">\n",
       "  <thead>\n",
       "    <tr style=\"text-align: right;\">\n",
       "      <th></th>\n",
       "      <th>age</th>\n",
       "      <th>visits</th>\n",
       "    </tr>\n",
       "  </thead>\n",
       "  <tbody>\n",
       "    <tr>\n",
       "      <th>a</th>\n",
       "      <td>2.5</td>\n",
       "      <td>1</td>\n",
       "    </tr>\n",
       "    <tr>\n",
       "      <th>b</th>\n",
       "      <td>3.0</td>\n",
       "      <td>3</td>\n",
       "    </tr>\n",
       "    <tr>\n",
       "      <th>c</th>\n",
       "      <td>0.5</td>\n",
       "      <td>2</td>\n",
       "    </tr>\n",
       "    <tr>\n",
       "      <th>e</th>\n",
       "      <td>5.0</td>\n",
       "      <td>2</td>\n",
       "    </tr>\n",
       "    <tr>\n",
       "      <th>f</th>\n",
       "      <td>2.0</td>\n",
       "      <td>3</td>\n",
       "    </tr>\n",
       "    <tr>\n",
       "      <th>g</th>\n",
       "      <td>4.5</td>\n",
       "      <td>1</td>\n",
       "    </tr>\n",
       "    <tr>\n",
       "      <th>i</th>\n",
       "      <td>7.0</td>\n",
       "      <td>2</td>\n",
       "    </tr>\n",
       "    <tr>\n",
       "      <th>j</th>\n",
       "      <td>3.0</td>\n",
       "      <td>1</td>\n",
       "    </tr>\n",
       "  </tbody>\n",
       "</table>\n",
       "</div>"
      ],
      "text/plain": [
       "   age  visits\n",
       "a  2.5       1\n",
       "b  3.0       3\n",
       "c  0.5       2\n",
       "e  5.0       2\n",
       "f  2.0       3\n",
       "g  4.5       1\n",
       "i  7.0       2\n",
       "j  3.0       1"
      ]
     },
     "execution_count": 23,
     "metadata": {},
     "output_type": "execute_result"
    }
   ],
   "source": [
    "\n",
    "\"\"\"\n",
    "Write a function that takes dataframe df (defined above) as input and returns filtered dataframe with:\n",
    "        - Only numeric columns\n",
    "        - Only rows without any missing values\n",
    "\n",
    "Notes:\n",
    "        - Don’t select the columns and rows manually (use filtering)\n",
    "\"\"\"\n",
    "\n",
    "def filter_dataframe(df):\n",
    "    return df.select_dtypes(include='number').dropna()\n",
    "    \n",
    "filter_dataframe(df)"
   ]
  },
  {
   "cell_type": "code",
   "execution_count": 135,
   "metadata": {},
   "outputs": [
    {
     "name": "stdout",
     "output_type": "stream",
     "text": [
      "[9, -2, 15]\n"
     ]
    }
   ],
   "source": [
    "def even_odd_transform(lst,repeat):\n",
    "    \n",
    "    new_list = []\n",
    "    \n",
    "    for i in lst:\n",
    "        if (i % 2) == 0:\n",
    "            j = i - 2*repeat\n",
    "            new_list.append(j)\n",
    "        else:\n",
    "            j = i + 2*repeat\n",
    "            new_list.append(j)\n",
    "            \n",
    "    print(new_list)\n",
    "\n",
    "even_odd_transform([3, 4, 9], 3)"
   ]
  },
  {
   "cell_type": "code",
   "execution_count": 9,
   "metadata": {},
   "outputs": [],
   "source": [
    "def load_excel(path):\n",
    "    return pd.read_excel(path)"
   ]
  },
  {
   "cell_type": "code",
   "execution_count": 33,
   "metadata": {},
   "outputs": [
    {
     "name": "stdout",
     "output_type": "stream",
     "text": [
      "     Region  Manager   Sale_amt\n",
      "0      East   Martha  113810.00\n",
      "1   Central  Hermann  107820.00\n",
      "2   Central  Hermann  107820.00\n",
      "3   Central   Martha   89850.00\n",
      "4   Central  Douglas   80266.00\n",
      "5   Central   Martha   79068.00\n",
      "6      West  Timothy   67088.00\n",
      "7   Central  Timothy   63494.00\n",
      "8       NaN      NaN   62550.00\n",
      "9   Central  Hermann   47000.00\n",
      "10  Central  Douglas   43500.00\n",
      "11  Central  Hermann   43128.00\n",
      "12     East   Martha   41930.00\n",
      "13     East  Douglas   40500.00\n",
      "14  Central  Timothy   40000.00\n",
      "15     West  Douglas   38336.00\n",
      "16     East   Martha   30000.00\n",
      "17     East   Martha   30000.00\n",
      "18     West  Douglas   28500.00\n",
      "19  Central  Hermann   25000.00\n",
      "20  Central  Timothy   23000.00\n",
      "21     East   Martha   21600.00\n",
      "22     West  Timothy   17100.00\n",
      "23  Central   Martha   16772.00\n",
      "24     East   Martha   14500.00\n",
      "25     East   Martha   14400.00\n",
      "26  Central   Martha   14000.00\n",
      "27  Central  Hermann   14000.00\n",
      "28  Central  Timothy    8386.00\n",
      "29      NaN      NaN    7818.75\n",
      "30  Central  Timothy    6075.00\n",
      "31  Central  Hermann    5616.00\n",
      "32  Central  Hermann    5500.00\n",
      "33     East  Douglas    4329.00\n",
      "34     East   Martha    3627.00\n",
      "35     West  Timothy    3500.00\n",
      "36     East  Douglas    3375.00\n",
      "37  Central  Hermann    3217.50\n",
      "38  Central  Hermann    2925.00\n",
      "39  Central  Hermann    2457.00\n",
      "40     East   Martha    2000.00\n",
      "41     East   Martha     936.00\n",
      "42  Central  Hermann     625.00\n",
      "43     West  Timothy     375.00\n",
      "44  Central  Douglas     250.00\n"
     ]
    }
   ],
   "source": [
    "import pandas as pd\n",
    "import sys\n",
    "\n",
    "df = load_excel('SaleData.xlsx')\n",
    "\n",
    "\n",
    "\"\"\"\n",
    "Write a Pandas program to find the total sale amount (Sale_amt) region and manager wise. \n",
    "Order the dataframe by Sale_amt, starting with the highest.\n",
    "Output should be DataFrame with 3 columns (order is important):\n",
    "    - Region\n",
    "    - Manager\n",
    "    - Sale_amt\n",
    "and numeric index starting with 0 (after sorting).\n",
    "\"\"\"\n",
    "\n",
    "def compute_total_sale(df):\n",
    "    columns = df[['Region','Manager','Sale_amt']] \n",
    "    new_df = columns.copy()\n",
    "    new_df = new_df.sort_values(by='Sale_amt', ascending=False)\n",
    "    new_df = new_df.reset_index(drop=True)\n",
    "    print(new_df)\n",
    "    \n",
    "compute_total_sale(df)\n"
   ]
  },
  {
   "cell_type": "code",
   "execution_count": 92,
   "metadata": {},
   "outputs": [
    {
     "name": "stdout",
     "output_type": "stream",
     "text": [
      "   Manager  sale_cnt     sale_mean\n",
      "0   Martha        14  33749.500000\n",
      "1  Hermann        12  30425.708333\n",
      "2  Timothy         9  25446.444444\n",
      "3  Douglas         8  29882.000000\n"
     ]
    }
   ],
   "source": [
    "\"\"\"\n",
    "Write a function to count the manager wise sale (sale_cnt)\n",
    "and mean value of sale amount (sale_mean). \n",
    "Order the output dataframe by sale_cnt, starting with the highest.\n",
    "Output should be DataFrame with 3 columns (order is important):\n",
    "    - Manager\n",
    "    - sale_cnt\n",
    "    - sale_mean\n",
    "and numeric index starting with 0 (after sorting).\n",
    "\"\"\"\n",
    "\n",
    "def compute_agg_stats(df):\n",
    "    columns = df[['Manager','Sale_amt']] \n",
    "    new_df = columns.copy()\n",
    "    new_df = new_df.groupby(['Manager']).mean()\n",
    "    new_df['sale_cnt'] = df['Manager'].value_counts()\n",
    "    new_df = new_df.sort_values(by='sale_cnt', ascending=False)\n",
    "    new_df = new_df.reset_index()\n",
    "    new_df = new_df[[\"Manager\", \"sale_cnt\", \"Sale_amt\"]]\n",
    "    new_df = new_df.rename(columns={'Sale_amt': \"sale_mean\"})\n",
    "    print(new_df)\n",
    "    \n",
    "compute_agg_stats(df)"
   ]
  },
  {
   "cell_type": "code",
   "execution_count": 134,
   "metadata": {},
   "outputs": [
    {
     "name": "stdout",
     "output_type": "stream",
     "text": [
      "a\n",
      "b\n",
      "c\n",
      "d\n",
      "e\n",
      "{'a': 57.6, 'b': 151.2, 'c': 86.4, 'd': 36.0, 'e': 28.8}\n"
     ]
    }
   ],
   "source": [
    "\"\"\"\n",
    "A pie chart is a circular graphical representation of a dataset, \n",
    "where each category frequency is represented by a slice (or circular sector) \n",
    "with an amplitude in degrees given by the single frequency percentage over the total of frequencies. \n",
    "\n",
    "You can obtain the degrees of sectors following these steps:\n",
    "    - Calculate frequencies total.\n",
    "    - Calculate percentage of every category frequency dividing it by the frequencies total.\n",
    "    - Transform every percentage in degrees multiplying it for 360.\n",
    "\n",
    "You are given a dictionary data with keys being the data categories (represented by letters) and values \n",
    "being the data frequencies. Implement a function that returns a map to design a pie chart, \n",
    "like to say the same dictionary with values transformed in degrees instead of frequencies. \n",
    "Round final values to the nearest tenth.\n",
    "\n",
    "Example:\n",
    "    pie_chart({ \"a\": 1, \"b\": 2 }) ➞ { \"a\": 120, \"b\": 240 }\n",
    "\n",
    "    pie_chart({ \"a\": 30, \"b\": 15, \"c\": 55 }) ➞ { \"a\": 108, \"b\": 54, \"c\": 198 }\n",
    "\n",
    "    pie_chart({ \"a\": 8, \"b\": 21, \"c\": 12, \"d\": 5, \"e\": 4 }) ➞ { \"a\": 57.6, \"b\": 151.2, \"c\": 86.4, \"d\": 36, \"e\": 28.8 }\n",
    "\"\"\"\n",
    "\n",
    "\n",
    "def pie_chart(dictionary):\n",
    "    \n",
    "    count = 0\n",
    "    lst = []\n",
    "    i = 0\n",
    "    \n",
    "    for value in dictionary.values():\n",
    "        count += value\n",
    "    for value in dictionary.values():\n",
    "        new_value = 360*(value / count)\n",
    "        new_value = round(new_value, 3)\n",
    "        lst.append(new_value)\n",
    "\n",
    "    for key in dictionary.keys():\n",
    "        print(key)\n",
    "        dictionary[key] = lst[i]\n",
    "        i+=1\n",
    "    \n",
    "    print(dictionary)\n",
    "    \n",
    "pie_chart({ \"a\": 8, \"b\": 21, \"c\": 12, \"d\": 5, \"e\": 4 })"
   ]
  },
  {
   "cell_type": "code",
   "execution_count": null,
   "metadata": {},
   "outputs": [],
   "source": []
  }
 ],
 "metadata": {
  "kernelspec": {
   "display_name": "Python 3",
   "language": "python",
   "name": "python3"
  },
  "language_info": {
   "codemirror_mode": {
    "name": "ipython",
    "version": 3
   },
   "file_extension": ".py",
   "mimetype": "text/x-python",
   "name": "python",
   "nbconvert_exporter": "python",
   "pygments_lexer": "ipython3",
   "version": "3.8.8"
  }
 },
 "nbformat": 4,
 "nbformat_minor": 4
}
