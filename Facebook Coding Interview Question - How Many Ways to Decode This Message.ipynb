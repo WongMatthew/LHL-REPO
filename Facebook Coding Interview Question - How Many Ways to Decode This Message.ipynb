{
 "cells": [
  {
   "cell_type": "code",
   "execution_count": 49,
   "id": "32f0a012",
   "metadata": {},
   "outputs": [
    {
     "data": {
      "text/plain": [
       "8"
      ]
     },
     "execution_count": 49,
     "metadata": {},
     "output_type": "execute_result"
    }
   ],
   "source": [
    "def num_ways(data):\n",
    "    return help(data, len(data))\n",
    "\n",
    "def help(data, k):\n",
    "    if k == 0:\n",
    "        return 1\n",
    "    \n",
    "    s = len(data) - k\n",
    "    if data[s] == '0':\n",
    "        return 0\n",
    "    \n",
    "    result = help(data, k - 1)\n",
    "    if k>=2 and int(data[s:s+2]) <= 26:\n",
    "        result += help(data, k - 2)\n",
    "    return result\n",
    "\n",
    "num_ways(\"11111\")"
   ]
  }
 ],
 "metadata": {
  "kernelspec": {
   "display_name": "Python 3",
   "language": "python",
   "name": "python3"
  },
  "language_info": {
   "codemirror_mode": {
    "name": "ipython",
    "version": 3
   },
   "file_extension": ".py",
   "mimetype": "text/x-python",
   "name": "python",
   "nbconvert_exporter": "python",
   "pygments_lexer": "ipython3",
   "version": "3.8.8"
  }
 },
 "nbformat": 4,
 "nbformat_minor": 5
}
