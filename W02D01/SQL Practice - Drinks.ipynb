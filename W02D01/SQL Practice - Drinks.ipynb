{
 "cells": [
  {
   "cell_type": "code",
   "execution_count": 2,
   "id": "c7065210",
   "metadata": {},
   "outputs": [],
   "source": [
    "import psycopg2\n",
    "#import config as cfg\n",
    "import pandas as pd\n",
    "\n",
    "postgres_pwd = 'pass' # This is the password you entered when you set up PGSQL\n",
    "\n",
    "con = psycopg2.connect(database='drinks', user='postgres', password=postgres_pwd,\n",
    "                       host='127.0.0.1', port='5432')  # This should work if you left everything as default\n",
    "\n",
    "cur = con.cursor()\n",
    "\n",
    "#cur.execute(open('drinks.sql', 'r').read())  # Uncomment this the first time you run the db"
   ]
  },
  {
   "cell_type": "code",
   "execution_count": 3,
   "id": "2dc6e051",
   "metadata": {},
   "outputs": [],
   "source": [
    "query = con.cursor()"
   ]
  },
  {
   "cell_type": "code",
   "execution_count": 4,
   "id": "0cade0fb",
   "metadata": {},
   "outputs": [
    {
     "name": "stdout",
     "output_type": "stream",
     "text": [
      "('person 1', '2016-10-16', 'bar 9', 'drink 4', 1)\n",
      "('person 1', '2016-10-16', 'bar 9', 'drink 44', 1)\n",
      "('person 1', '2016-10-22', 'bar 19', 'drink 1', 4)\n",
      "('person 1', '2016-10-22', 'bar 19', 'drink 9', 1)\n",
      "('person 1', '2016-10-22', 'bar 19', 'drink 42', 2)\n",
      "('person 1', '2016-10-01', 'bar 18', 'drink 43', 1)\n"
     ]
    }
   ],
   "source": [
    "# execute a simple query\n",
    "query.execute(\n",
    "\"\"\"\n",
    "SELECT *\n",
    "FROM orders\n",
    "LIMIT 6;\n",
    "\"\"\")\n",
    "\n",
    "response = query.fetchall()\n",
    "\n",
    "for row in response:\n",
    "    print(row)"
   ]
  },
  {
   "cell_type": "code",
   "execution_count": 5,
   "id": "7c6c92ab",
   "metadata": {},
   "outputs": [
    {
     "data": {
      "text/plain": [
       "[('person 1', '2016-10-16', 'bar 9', 'drink 4', 1),\n",
       " ('person 1', '2016-10-16', 'bar 9', 'drink 44', 1),\n",
       " ('person 1', '2016-10-22', 'bar 19', 'drink 1', 4),\n",
       " ('person 1', '2016-10-22', 'bar 19', 'drink 9', 1),\n",
       " ('person 1', '2016-10-22', 'bar 19', 'drink 42', 2),\n",
       " ('person 1', '2016-10-01', 'bar 18', 'drink 43', 1)]"
      ]
     },
     "execution_count": 5,
     "metadata": {},
     "output_type": "execute_result"
    }
   ],
   "source": [
    "# raw response\n",
    "response"
   ]
  },
  {
   "cell_type": "markdown",
   "id": "0892883c",
   "metadata": {},
   "source": [
    "## Question 1"
   ]
  },
  {
   "cell_type": "code",
   "execution_count": null,
   "id": "8d629488",
   "metadata": {},
   "outputs": [],
   "source": [
    "\n",
    "\n",
    "select bar, avg(price) from has_on_menu group by bar; \n"
   ]
  }
 ],
 "metadata": {
  "kernelspec": {
   "display_name": "THE_ONE",
   "language": "python",
   "name": "the_one"
  },
  "language_info": {
   "codemirror_mode": {
    "name": "ipython",
    "version": 3
   },
   "file_extension": ".py",
   "mimetype": "text/x-python",
   "name": "python",
   "nbconvert_exporter": "python",
   "pygments_lexer": "ipython3",
   "version": "3.8.8"
  }
 },
 "nbformat": 4,
 "nbformat_minor": 5
}
